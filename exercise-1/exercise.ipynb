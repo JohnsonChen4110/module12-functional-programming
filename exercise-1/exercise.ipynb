{
 "cells": [
  {
   "cell_type": "markdown",
   "metadata": {},
   "source": [
    "# Exercise-1\n",
    "Add the specified code for each code cell, running the cells _in order_."
   ]
  },
  {
   "cell_type": "markdown",
   "metadata": {},
   "source": [
    "Define a new list **`words`** that contains each of the words to the following [song lyric](https://www.youtube.com/watch?v=StTqXEQ2l-Y) (don't include the notes):\n",
    "```\n",
    "♫ everything is awesome everything is cool when you are part of a TEEEEAM ♫\n",
    "```\n",
    "\n",
    "_Hint:_ use the `split()` string method."
   ]
  },
  {
   "cell_type": "code",
   "execution_count": 24,
   "metadata": {
    "collapsed": false
   },
   "outputs": [
    {
     "data": {
      "text/plain": [
       "['everything',\n",
       " 'is',\n",
       " 'awesome',\n",
       " 'everything',\n",
       " 'is',\n",
       " 'cool',\n",
       " 'when',\n",
       " 'you',\n",
       " 'are',\n",
       " 'part',\n",
       " 'of',\n",
       " 'a',\n",
       " 'TEEEEAM']"
      ]
     },
     "execution_count": 24,
     "metadata": {},
     "output_type": "execute_result"
    }
   ],
   "source": [
    "string = '♫ everything is awesome everything is cool when you are part of a TEEEEAM ♫'\n",
    "words = string.split(' ')\n",
    "words = words[1:-1]\n",
    "words"
   ]
  },
  {
   "cell_type": "markdown",
   "metadata": {},
   "source": [
    "Define a function **`abbreviate()`** that takes in a string as an argument and _returns_ the first letter of that string capitalized and followed by a period (`.`). For example:\n",
    "```python\n",
    "abbreviate(\"dog\")  # returns \"D.\"\n",
    "```\n",
    "_Hint:_ you can use bracket notation to access the first (0th) character of a string!"
   ]
  },
  {
   "cell_type": "code",
   "execution_count": 9,
   "metadata": {
    "collapsed": false
   },
   "outputs": [
    {
     "data": {
      "text/plain": [
       "'H.'"
      ]
     },
     "execution_count": 9,
     "metadata": {},
     "output_type": "execute_result"
    }
   ],
   "source": [
    "abbreviate = lambda s: s[0].upper()+'.'\n",
    "abbreviate('haha')"
   ]
  },
  {
   "cell_type": "markdown",
   "metadata": {},
   "source": [
    "Use the **`map()`** function to transform the list of lyric words into a list of abbreviations (technically an initialism)."
   ]
  },
  {
   "cell_type": "code",
   "execution_count": 14,
   "metadata": {
    "collapsed": false
   },
   "outputs": [
    {
     "data": {
      "text/plain": [
       "['E.', 'I.', 'A.', 'E.', 'I.', 'C.', 'W.', 'Y.', 'A.', 'P.', 'O.', 'A.', 'T.']"
      ]
     },
     "execution_count": 14,
     "metadata": {},
     "output_type": "execute_result"
    }
   ],
   "source": [
    "initial = list(map(abbreviate,words))\n",
    "initial"
   ]
  },
  {
   "cell_type": "markdown",
   "metadata": {},
   "source": [
    "Use the **`filter()`** function to remove each word from the list of `words` that is 3 or fewer letters in length. You can define a named callback function, or use an anonymous lambda."
   ]
  },
  {
   "cell_type": "code",
   "execution_count": 12,
   "metadata": {
    "collapsed": false
   },
   "outputs": [
    {
     "data": {
      "text/plain": [
       "['everything', 'awesome', 'everything', 'cool', 'when', 'part', 'TEEEEAM']"
      ]
     },
     "execution_count": 12,
     "metadata": {},
     "output_type": "execute_result"
    }
   ],
   "source": [
    "fewer3 = lambda s: len(s)>3\n",
    "list(filter(fewer3,words))"
   ]
  },
  {
   "cell_type": "markdown",
   "metadata": {},
   "source": [
    "**In a single statement**, use both the `map()` and `filter()` functions to get a list of the initials of the long words in the the `words` list. _Hint:_ try pasting your filtering code into your mapping code from the previous problems!"
   ]
  },
  {
   "cell_type": "code",
   "execution_count": 13,
   "metadata": {
    "collapsed": false
   },
   "outputs": [
    {
     "data": {
      "text/plain": [
       "['E.', 'A.', 'E.', 'C.', 'W.', 'P.', 'T.']"
      ]
     },
     "execution_count": 13,
     "metadata": {},
     "output_type": "execute_result"
    }
   ],
   "source": [
    "list(map(abbreviate,filter(fewer3,words)))"
   ]
  },
  {
   "cell_type": "markdown",
   "metadata": {},
   "source": [
    "Use the **`reduce()`** function to combine the list of initials into a single string. You can define a named callback function, or use an anonymous lambda. Remember to `import` the `reduce()` function! _Note_ normally you would do this with the `join()` string method."
   ]
  },
  {
   "cell_type": "code",
   "execution_count": 23,
   "metadata": {
    "collapsed": false
   },
   "outputs": [
    {
     "data": {
      "text/plain": [
       "'E.I.A.E.I.C.W.Y.A.P.O.A.T.'"
      ]
     },
     "execution_count": 23,
     "metadata": {},
     "output_type": "execute_result"
    }
   ],
   "source": [
    "from functools import reduce\n",
    "reduce(lambda x,y:x+y,initial)"
   ]
  },
  {
   "cell_type": "markdown",
   "metadata": {},
   "source": [
    "Use the **`reduce()`** function to get a list of _unique_ words in the original lyrics (not the initials).\n",
    "- Think about what to do with each \"new\" list element to include it in the aggregation (you can use an `if` statement to decide whether to include it or not!). Try defining an `add_if_unique()` callback function.\n",
    "- You will also need to use the optional third argument to [reduce()](https://docs.python.org/3/library/functools.html#functools.reduce) to specify that the \"aggregation\" should start with an empty list `[]`.\n",
    "- We do this with `reduce()` instead of `filter()` because it allows us to more directly check the list beyond the specific element being considered."
   ]
  },
  {
   "cell_type": "code",
   "execution_count": 62,
   "metadata": {
    "collapsed": false
   },
   "outputs": [
    {
     "data": {
      "text/plain": [
       "['everything',\n",
       " 'is',\n",
       " 'awesome',\n",
       " 'cool',\n",
       " 'when',\n",
       " 'you',\n",
       " 'are',\n",
       " 'part',\n",
       " 'of',\n",
       " 'a',\n",
       " 'TEEEEAM']"
      ]
     },
     "execution_count": 62,
     "metadata": {},
     "output_type": "execute_result"
    }
   ],
   "source": [
    "def add_if_unique(a,b):\n",
    "    if b in a:\n",
    "        return a\n",
    "    else:\n",
    "        a.append(b)\n",
    "        return a\n",
    "reduce(add_if_unique,words,[])"
   ]
  },
  {
   "cell_type": "code",
   "execution_count": null,
   "metadata": {
    "collapsed": true
   },
   "outputs": [],
   "source": []
  }
 ],
 "metadata": {
  "kernelspec": {
   "display_name": "Python 3",
   "language": "python",
   "name": "python3"
  },
  "language_info": {
   "codemirror_mode": {
    "name": "ipython",
    "version": 3
   },
   "file_extension": ".py",
   "mimetype": "text/x-python",
   "name": "python",
   "nbconvert_exporter": "python",
   "pygments_lexer": "ipython3",
   "version": "3.6.0"
  },
  "toc": {
   "colors": {
    "hover_highlight": "#DAA520",
    "running_highlight": "#FF0000",
    "selected_highlight": "#FFD700"
   },
   "moveMenuLeft": true,
   "nav_menu": {
    "height": "30px",
    "width": "252px"
   },
   "navigate_menu": true,
   "number_sections": true,
   "sideBar": true,
   "threshold": 4,
   "toc_cell": false,
   "toc_section_display": "block",
   "toc_window_display": false,
   "widenNotebook": false
  }
 },
 "nbformat": 4,
 "nbformat_minor": 2
}
